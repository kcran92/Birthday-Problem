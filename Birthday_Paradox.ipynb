{
 "cells": [
  {
   "cell_type": "code",
   "execution_count": 1,
   "id": "c194673b-6989-4392-9be3-9734ccf03691",
   "metadata": {},
   "outputs": [],
   "source": [
    "# Birthday Paradox\n"
   ]
  },
  {
   "cell_type": "code",
   "execution_count": 11,
   "id": "b70cdf2c-491b-47ca-b467-2105c9b88088",
   "metadata": {},
   "outputs": [],
   "source": [
    "import datetime, random"
   ]
  },
  {
   "cell_type": "code",
   "execution_count": 13,
   "id": "ec735f37-f600-4d59-9801-90c2bad08329",
   "metadata": {},
   "outputs": [],
   "source": [
    "def get_birthdays(number_of_birthdays):\n",
    "    \"\"\"Returns a list of number random date objects for bithdays.\"\"\"\n",
    "    birthdays = []\n",
    "\n",
    "    for i in range (number_of_birthdays):\n",
    "        # This year is unimportant for our simulation as long as all birthdays have the same year\n",
    "        start_of_year = datetime.date(2001, 1, 1)\n",
    "\n",
    "        # Get a random day into the year:\n",
    "        random_number_of_days = datetime.timedelta(random.randint(0, 364))\n",
    "        birthday = start_of_year + random_number_of_days\n",
    "        birthdays.append(birthday)\n",
    "    return birthdays"
   ]
  },
  {
   "cell_type": "code",
   "execution_count": 15,
   "id": "e48b6070-00ff-40d9-837d-ac2a5b49e982",
   "metadata": {},
   "outputs": [],
   "source": [
    "def get_match(birthdays):\n",
    "    \"\"\"Returns the date object of a birthday that occurs more than once in the birthdays list.\"\"\"\n",
    "    if len(birthdays) == len(set(birthdays)):\n",
    "        return None # All birthdays are unique\n",
    "\n",
    "    # Compare each birthdate to every other birthdate\n",
    "    for a, birthday_a in enumerate(birthdays):\n",
    "        for b, birthday_b in enumerate(birthdays[a + 1 :]):\n",
    "            if birthday_a == birthday_b:\n",
    "                return birthday_a # Return the matching birthday."
   ]
  },
  {
   "cell_type": "code",
   "execution_count": 33,
   "id": "64501557-b4af-476b-8093-e2909cb75960",
   "metadata": {},
   "outputs": [
    {
     "name": "stdout",
     "output_type": "stream",
     "text": [
      "Birthday Paradox\n",
      "How many birthdays shall I generate? (Max 100)\n"
     ]
    },
    {
     "name": "stdin",
     "output_type": "stream",
     "text": [
      ">  100\n"
     ]
    },
    {
     "name": "stdout",
     "output_type": "stream",
     "text": [
      "\n"
     ]
    }
   ],
   "source": [
    "#Display the intro:\n",
    "print('''Birthday Paradox''')\n",
    "\n",
    "#Set up a tuple of month names in order:\n",
    "MONTHS = ('January', 'Febuary', 'March', 'April', 'May', 'June', 'July', 'August', 'September', 'October', 'November', 'December')\n",
    "\n",
    "while True:\n",
    "    print('How many birthdays shall I generate? (Max 100)')\n",
    "    response = input('> ')\n",
    "    if response.isdecimal() and (0 < int(response) <= 100):\n",
    "        num_bdays = int(response)\n",
    "        break    # User has entered a valid amount\n",
    "print()"
   ]
  },
  {
   "cell_type": "code",
   "execution_count": 35,
   "id": "0a1bdb13-e553-4845-8fbb-3a03f2aee06e",
   "metadata": {},
   "outputs": [
    {
     "name": "stdout",
     "output_type": "stream",
     "text": [
      "Here are 100 birthdays:\n",
      "March 2, Febuary 21, November 24, July 26, Febuary 7, November 10, March 21, April 26, July 13, January 28, August 4, December 28, May 27, November 1, June 27, January 15, June 24, March 29, Febuary 22, October 26, April 13, September 4, December 30, June 28, May 30, November 2, May 16, May 16, October 28, July 11, October 17, June 25, August 2, December 26, March 22, Febuary 18, April 23, December 2, October 18, December 22, Febuary 19, September 2, May 13, December 17, March 9, March 28, May 18, August 16, March 28, July 23, March 12, September 30, December 19, August 17, September 20, December 20, December 25, November 22, April 17, October 3, September 20, December 31, January 17, September 1, January 3, August 9, Febuary 3, October 3, June 13, March 5, September 2, May 25, June 6, January 19, March 26, July 3, April 30, March 11, January 4, December 19, October 29, April 24, December 13, October 26, November 26, October 22, Febuary 16, Febuary 11, June 2, June 23, August 2, Febuary 20, April 18, October 9, January 5, December 23, January 12, July 31, November 4, July 20\n",
      "\n"
     ]
    }
   ],
   "source": [
    "# Generate and display the birthdays:\n",
    "print('Here are', num_bdays, 'birthdays:')\n",
    "birthdays = get_birthdays(num_bdays)\n",
    "for i, birthday in enumerate(birthdays):\n",
    "    if i != 0:\n",
    "        print(', ', end='') # Display a comma for each birthday after the first birthday\n",
    "    month_name = MONTHS[birthday.month -1]\n",
    "    date_text = '{} {}'.format(month_name, birthday.day)\n",
    "    print(date_text, end='')\n",
    "print()\n",
    "print()"
   ]
  },
  {
   "cell_type": "code",
   "execution_count": 37,
   "id": "2c7d580f-a0c4-4b86-83ec-41e555b73505",
   "metadata": {},
   "outputs": [],
   "source": [
    "# Determine if there are two birthdays that match.\n",
    "match = get_match(birthdays)"
   ]
  },
  {
   "cell_type": "code",
   "execution_count": 39,
   "id": "512b7c67-e60e-436a-9962-222b7aacda67",
   "metadata": {},
   "outputs": [
    {
     "name": "stdout",
     "output_type": "stream",
     "text": [
      "In this simulation, multiple people have a birthday on October 26\n",
      "\n"
     ]
    }
   ],
   "source": [
    "# Display the results:\n",
    "print('In this simulation, ', end='')\n",
    "if match != None:\n",
    "    month_name = MONTHS[match.month - 1]\n",
    "    date_text = '{} {}'.format(month_name, match.day)\n",
    "    print('multiple people have a birthday on', date_text)\n",
    "else:\n",
    "    print('there are no matching birthdays.')\n",
    "print()"
   ]
  },
  {
   "cell_type": "code",
   "execution_count": 41,
   "id": "89183530-96ce-47ec-84c4-9c9cd0c26d47",
   "metadata": {},
   "outputs": [
    {
     "name": "stdout",
     "output_type": "stream",
     "text": [
      "Generating 100 random birthdays 100,000 times...\n"
     ]
    },
    {
     "name": "stdin",
     "output_type": "stream",
     "text": [
      "Press Enter to begin... \n"
     ]
    },
    {
     "name": "stdout",
     "output_type": "stream",
     "text": [
      "Let's run another simulation.\n",
      "0 simulations run...\n",
      "10000 simulations run...\n",
      "20000 simulations run...\n",
      "30000 simulations run...\n",
      "40000 simulations run...\n",
      "50000 simulations run...\n",
      "60000 simulations run...\n",
      "70000 simulations run...\n",
      "80000 simulations run...\n",
      "90000 simulations run...\n",
      "100,000 simulations run.\n"
     ]
    }
   ],
   "source": [
    "# Run through 100,000 simulations:\n",
    "print('Generating', num_bdays, 'random birthdays 100,000 times...')\n",
    "input('Press Enter to begin...')\n",
    "\n",
    "print('Let\\'s run another simulation.')\n",
    "sim_match = 0\n",
    "for i in range(100_000):\n",
    "    if i % 10_000 == 0:\n",
    "        print(i, 'simulations run...')\n",
    "    birthdays = get_birthdays(num_bdays)\n",
    "    if get_match(birthdays) != None:\n",
    "        sim_match = sim_match + 1\n",
    "print('100,000 simulations run.')"
   ]
  },
  {
   "cell_type": "code",
   "execution_count": 43,
   "id": "1949dc10-c70d-48c9-9155-3833a0062e88",
   "metadata": {},
   "outputs": [
    {
     "name": "stdout",
     "output_type": "stream",
     "text": [
      "Out of 100,000 simulations of 100 people, there was a\n",
      "matching birthday in the group 100000 times. This means\n",
      "that 100 people have a 100.0 % chance of\n",
      "having a matching birthday in their group\n",
      "That's probably more than you would think!\n"
     ]
    }
   ],
   "source": [
    "# Display simulation results\n",
    "probability = round(sim_match / 100_000 * 100, 2)\n",
    "print('Out of 100,000 simulations of', num_bdays, 'people, there was a')\n",
    "print('matching birthday in the group', sim_match, 'times. This means')\n",
    "print('that', num_bdays, 'people have a', probability, '% chance of')\n",
    "print('having a matching birthday in their group')\n",
    "print('That\\'s probably more than you would think!')"
   ]
  },
  {
   "cell_type": "code",
   "execution_count": null,
   "id": "38fcf18d-5bf9-4542-8b05-eefac7a80360",
   "metadata": {},
   "outputs": [],
   "source": []
  }
 ],
 "metadata": {
  "kernelspec": {
   "display_name": "Python 3 (ipykernel)",
   "language": "python",
   "name": "python3"
  },
  "language_info": {
   "codemirror_mode": {
    "name": "ipython",
    "version": 3
   },
   "file_extension": ".py",
   "mimetype": "text/x-python",
   "name": "python",
   "nbconvert_exporter": "python",
   "pygments_lexer": "ipython3",
   "version": "3.11.7"
  }
 },
 "nbformat": 4,
 "nbformat_minor": 5
}
